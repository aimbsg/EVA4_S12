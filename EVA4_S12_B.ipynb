{
  "nbformat": 4,
  "nbformat_minor": 0,
  "metadata": {
    "colab": {
      "name": "EVA4_S12_B.ipynb",
      "provenance": [],
      "collapsed_sections": [],
      "authorship_tag": "ABX9TyNMslIoRtfgFiaBmEhAyMWg",
      "include_colab_link": true
    },
    "kernelspec": {
      "name": "python3",
      "display_name": "Python 3"
    }
  },
  "cells": [
    {
      "cell_type": "markdown",
      "metadata": {
        "id": "view-in-github",
        "colab_type": "text"
      },
      "source": [
        "<a href=\"https://colab.research.google.com/github/aimbsg/EVA4_S12/blob/master/EVA4_S12_B.ipynb\" target=\"_parent\"><img src=\"https://colab.research.google.com/assets/colab-badge.svg\" alt=\"Open In Colab\"/></a>"
      ]
    },
    {
      "cell_type": "markdown",
      "metadata": {
        "id": "cLjfH1ETnXoL",
        "colab_type": "text"
      },
      "source": [
        "\n",
        "Assignment B : \n",
        "Download 50 images from the internet\n",
        "Annotate via vgg Annotator - http://www.robots.ox.ac.uk/~vgg/software/via/via_demo.html\n",
        "Download the json file\n",
        "Preprocess -Normalising bb_width and bb_height\n",
        "Find Optimal clusters using elbow method \n",
        "Plot the graph\n",
        "\n",
        "Json description :\n",
        "   1. info - file information like name, creation date, description,version.\n",
        "   2. images - information about images\n",
        "        * id - unique value\n",
        "        * width    - width of the image\n",
        "        * height - height of the image\n",
        "        * file_name    - name of the file\n",
        "        * license    - license\n",
        "        * date_captured - date of image capture\n",
        "   3   annotation - \n",
        "        * id  - unique annotation identifier\n",
        "        * image_id - unique image identifier\n",
        "        * segmentation- Co-Ordinates of the bounding box.\n",
        "        * area- area of bounding box\n",
        "        * bbox - 4 points. top-left x point,top-left y point, width of bbox, height of bbox \n",
        "        * iscrowd - One image or multiple images annotated \n",
        "   4   license\n",
        "   5   Categories - Information of the annotated field like class = dog\n",
        "       Each category has id , name, supercategory       "
      ]
    },
    {
      "cell_type": "code",
      "metadata": {
        "id": "aFO1kDr1fM6N",
        "colab_type": "code",
        "colab": {}
      },
      "source": [
        "import pandas as pd\n",
        "import json"
      ],
      "execution_count": 0,
      "outputs": []
    },
    {
      "cell_type": "code",
      "metadata": {
        "id": "JU-Ll_gxi8Ne",
        "colab_type": "code",
        "outputId": "aa391b97-a866-4765-945f-d2dbac113f48",
        "colab": {
          "base_uri": "https://localhost:8080/",
          "height": 34
        }
      },
      "source": [
        "from google.colab import drive\n",
        "drive.mount('/content/gdrive/', force_remount = True)"
      ],
      "execution_count": 0,
      "outputs": [
        {
          "output_type": "stream",
          "text": [
            "Mounted at /content/gdrive/\n"
          ],
          "name": "stdout"
        }
      ]
    },
    {
      "cell_type": "code",
      "metadata": {
        "id": "LMGzK4AcjvbX",
        "colab_type": "code",
        "outputId": "27c96a43-64fd-49f2-fdc7-9624d08337e7",
        "colab": {
          "base_uri": "https://localhost:8080/",
          "height": 34
        }
      },
      "source": [
        "%cd '/content/gdrive/My Drive/EVA4_S12_TinyImageNet/'"
      ],
      "execution_count": 0,
      "outputs": [
        {
          "output_type": "stream",
          "text": [
            "/content/gdrive/My Drive/EVA4_S12_TinyImageNet\n"
          ],
          "name": "stdout"
        }
      ]
    },
    {
      "cell_type": "code",
      "metadata": {
        "id": "T51ecKknjZiQ",
        "colab_type": "code",
        "colab": {}
      },
      "source": [
        "json_input = json.load(open('via_export_coco.json'))"
      ],
      "execution_count": 0,
      "outputs": []
    },
    {
      "cell_type": "code",
      "metadata": {
        "id": "m-1U-g7wkzwO",
        "colab_type": "code",
        "outputId": "d0f0d9ee-5462-4ab4-b558-7b3575516575",
        "colab": {
          "base_uri": "https://localhost:8080/",
          "height": 34
        }
      },
      "source": [
        "json_input.keys()"
      ],
      "execution_count": 0,
      "outputs": [
        {
          "output_type": "execute_result",
          "data": {
            "text/plain": [
              "dict_keys(['info', 'images', 'annotations', 'licenses', 'categories'])"
            ]
          },
          "metadata": {
            "tags": []
          },
          "execution_count": 93
        }
      ]
    },
    {
      "cell_type": "code",
      "metadata": {
        "id": "nqM4CqmhlN8-",
        "colab_type": "code",
        "outputId": "d19d9dfd-ab69-4a98-aae5-77e4b190dc85",
        "colab": {
          "base_uri": "https://localhost:8080/",
          "height": 54
        }
      },
      "source": [
        "json_input.values()"
      ],
      "execution_count": 0,
      "outputs": [
        {
          "output_type": "execute_result",
          "data": {
            "text/plain": [
              "dict_values([{'year': 2020, 'version': '1', 'description': 'Exported using VGG Image Annotator (http://www.robots.ox.ac.uk/~vgg/software/via/)', 'contributor': '', 'url': 'http://www.robots.ox.ac.uk/~vgg/software/via/', 'date_created': 'Tue Apr 21 2020 16:25:52 GMT+0530 (India Standard Time)'}, [{'id': 0, 'width': 275, 'height': 183, 'file_name': 'img_1.jfif', 'license': 1, 'date_captured': ''}, {'id': 1, 'width': 282, 'height': 179, 'file_name': 'img_2.jfif', 'license': 1, 'date_captured': ''}, {'id': 2, 'width': 275, 'height': 183, 'file_name': 'img_3.jfif', 'license': 1, 'date_captured': ''}, {'id': 3, 'width': 272, 'height': 185, 'file_name': 'img_4.jfif', 'license': 1, 'date_captured': ''}, {'id': 4, 'width': 264, 'height': 191, 'file_name': 'img_5.jfif', 'license': 1, 'date_captured': ''}, {'id': 5, 'width': 274, 'height': 184, 'file_name': 'img_6.jfif', 'license': 1, 'date_captured': ''}, {'id': 6, 'width': 194, 'height': 259, 'file_name': 'img_7.jfif', 'license': 1, 'date_captured': ''}, {'id': 7, 'width': 225, 'height': 225, 'file_name': 'img_8.jfif', 'license': 1, 'date_captured': ''}, {'id': 8, 'width': 260, 'height': 194, 'file_name': 'img_9.jfif', 'license': 1, 'date_captured': ''}, {'id': 9, 'width': 275, 'height': 183, 'file_name': 'img_10.jfif', 'license': 1, 'date_captured': ''}, {'id': 10, 'width': 275, 'height': 183, 'file_name': 'img_11.jfif', 'license': 1, 'date_captured': ''}, {'id': 11, 'width': 273, 'height': 185, 'file_name': 'img_12.jfif', 'license': 1, 'date_captured': ''}, {'id': 12, 'width': 275, 'height': 183, 'file_name': 'img_13.jfif', 'license': 1, 'date_captured': ''}, {'id': 13, 'width': 259, 'height': 194, 'file_name': 'img_14.jfif', 'license': 1, 'date_captured': ''}, {'id': 14, 'width': 260, 'height': 194, 'file_name': 'img_15.jfif', 'license': 1, 'date_captured': ''}, {'id': 15, 'width': 239, 'height': 211, 'file_name': 'img_16.jfif', 'license': 1, 'date_captured': ''}, {'id': 16, 'width': 349, 'height': 144, 'file_name': 'img_17.jfif', 'license': 1, 'date_captured': ''}, {'id': 17, 'width': 310, 'height': 163, 'file_name': 'img_18.jfif', 'license': 1, 'date_captured': ''}, {'id': 18, 'width': 353, 'height': 143, 'file_name': 'img_19.jfif', 'license': 1, 'date_captured': ''}, {'id': 19, 'width': 297, 'height': 170, 'file_name': 'img_20.jfif', 'license': 1, 'date_captured': ''}, {'id': 20, 'width': 299, 'height': 168, 'file_name': 'img_21.jfif', 'license': 1, 'date_captured': ''}, {'id': 21, 'width': 194, 'height': 259, 'file_name': 'img_22.jfif', 'license': 1, 'date_captured': ''}, {'id': 22, 'width': 269, 'height': 187, 'file_name': 'img_23.jfif', 'license': 1, 'date_captured': ''}, {'id': 23, 'width': 275, 'height': 183, 'file_name': 'img_24.jfif', 'license': 1, 'date_captured': ''}, {'id': 24, 'width': 300, 'height': 168, 'file_name': 'img_25.jfif', 'license': 1, 'date_captured': ''}, {'id': 25, 'width': 225, 'height': 224, 'file_name': 'img_26.jfif', 'license': 1, 'date_captured': ''}, {'id': 26, 'width': 300, 'height': 168, 'file_name': 'img_27.jfif', 'license': 1, 'date_captured': ''}, {'id': 27, 'width': 275, 'height': 183, 'file_name': 'img_28.jfif', 'license': 1, 'date_captured': ''}, {'id': 28, 'width': 259, 'height': 194, 'file_name': 'img_29.jfif', 'license': 1, 'date_captured': ''}, {'id': 29, 'width': 275, 'height': 183, 'file_name': 'img_30.jfif', 'license': 1, 'date_captured': ''}, {'id': 30, 'width': 300, 'height': 168, 'file_name': 'img_31.jfif', 'license': 1, 'date_captured': ''}, {'id': 31, 'width': 201, 'height': 251, 'file_name': 'img_32.jfif', 'license': 1, 'date_captured': ''}, {'id': 32, 'width': 275, 'height': 183, 'file_name': 'img_33.jfif', 'license': 1, 'date_captured': ''}, {'id': 33, 'width': 299, 'height': 169, 'file_name': 'img_34.jfif', 'license': 1, 'date_captured': ''}, {'id': 34, 'width': 275, 'height': 183, 'file_name': 'img_35.jfif', 'license': 1, 'date_captured': ''}, {'id': 35, 'width': 275, 'height': 183, 'file_name': 'img_36.jfif', 'license': 1, 'date_captured': ''}, {'id': 36, 'width': 225, 'height': 225, 'file_name': 'img_37.jfif', 'license': 1, 'date_captured': ''}, {'id': 37, 'width': 225, 'height': 225, 'file_name': 'img_38.jfif', 'license': 1, 'date_captured': ''}, {'id': 38, 'width': 275, 'height': 183, 'file_name': 'img_39.jfif', 'license': 1, 'date_captured': ''}, {'id': 39, 'width': 275, 'height': 183, 'file_name': 'img_40.jfif', 'license': 1, 'date_captured': ''}, {'id': 40, 'width': 259, 'height': 194, 'file_name': 'img_41.jfif', 'license': 1, 'date_captured': ''}, {'id': 41, 'width': 275, 'height': 183, 'file_name': 'img_42.jfif', 'license': 1, 'date_captured': ''}, {'id': 42, 'width': 275, 'height': 183, 'file_name': 'img_43.jfif', 'license': 1, 'date_captured': ''}, {'id': 43, 'width': 183, 'height': 275, 'file_name': 'img_44.jfif', 'license': 1, 'date_captured': ''}, {'id': 44, 'width': 299, 'height': 168, 'file_name': 'img_45.jfif', 'license': 1, 'date_captured': ''}, {'id': 45, 'width': 275, 'height': 183, 'file_name': 'img_46.jfif', 'license': 1, 'date_captured': ''}, {'id': 46, 'width': 300, 'height': 168, 'file_name': 'img_47.jfif', 'license': 1, 'date_captured': ''}, {'id': 47, 'width': 225, 'height': 225, 'file_name': 'img_48.jfif', 'license': 1, 'date_captured': ''}, {'id': 48, 'width': 183, 'height': 275, 'file_name': 'img_49.jfif', 'license': 1, 'date_captured': ''}, {'id': 49, 'width': 317, 'height': 159, 'file_name': 'img_50.jfif', 'license': 1, 'date_captured': ''}], [{'id': 0, 'image_id': '0', 'category_id': 1, 'segmentation': [42, 30, 218, 30, 218, 169, 42, 169], 'area': 24464, 'bbox': [42, 30, 176, 139], 'iscrowd': 0}, {'id': 1, 'image_id': '1', 'category_id': 1, 'segmentation': [58, 34, 272, 34, 272, 167, 58, 167], 'area': 28462, 'bbox': [58, 34, 214, 133], 'iscrowd': 0}, {'id': 2, 'image_id': '2', 'category_id': 1, 'segmentation': [34, 24, 249, 24, 249, 152, 34, 152], 'area': 27520, 'bbox': [34, 24, 215, 128], 'iscrowd': 0}, {'id': 3, 'image_id': '3', 'category_id': 1, 'segmentation': [50, 14, 200, 14, 200, 168, 50, 168], 'area': 23100, 'bbox': [50, 14, 150, 154], 'iscrowd': 0}, {'id': 4, 'image_id': '4', 'category_id': 1, 'segmentation': [6, 2, 249, 2, 249, 187, 6, 187], 'area': 44955, 'bbox': [6, 2, 243, 185], 'iscrowd': 0}, {'id': 5, 'image_id': '5', 'category_id': 1, 'segmentation': [10, 23, 204, 23, 204, 176, 10, 176], 'area': 29682, 'bbox': [10, 23, 194, 153], 'iscrowd': 0}, {'id': 6, 'image_id': '6', 'category_id': 1, 'segmentation': [11, 11, 178, 11, 178, 252, 11, 252], 'area': 40247, 'bbox': [11, 11, 167, 241], 'iscrowd': 0}, {'id': 7, 'image_id': '7', 'category_id': 1, 'segmentation': [93, 6, 218, 6, 218, 207, 93, 207], 'area': 25125, 'bbox': [93, 6, 125, 201], 'iscrowd': 0}, {'id': 8, 'image_id': '8', 'category_id': 1, 'segmentation': [7, 11, 251, 11, 251, 191, 7, 191], 'area': 43920, 'bbox': [7, 11, 244, 180], 'iscrowd': 0}, {'id': 9, 'image_id': '9', 'category_id': 1, 'segmentation': [35, 15, 160, 15, 160, 178, 35, 178], 'area': 20375, 'bbox': [35, 15, 125, 163], 'iscrowd': 0}, {'id': 10, 'image_id': '10', 'category_id': 1, 'segmentation': [36, 4, 223, 4, 223, 170, 36, 170], 'area': 31042, 'bbox': [36, 4, 187, 166], 'iscrowd': 0}, {'id': 11, 'image_id': '11', 'category_id': 1, 'segmentation': [53, 13, 232, 13, 232, 168, 53, 168], 'area': 27745, 'bbox': [53, 13, 179, 155], 'iscrowd': 0}, {'id': 12, 'image_id': '12', 'category_id': 1, 'segmentation': [38, 23, 261, 23, 261, 165, 38, 165], 'area': 31666, 'bbox': [38, 23, 223, 142], 'iscrowd': 0}, {'id': 13, 'image_id': '13', 'category_id': 1, 'segmentation': [47, 13, 251, 13, 251, 191, 47, 191], 'area': 36312, 'bbox': [47, 13, 204, 178], 'iscrowd': 0}, {'id': 14, 'image_id': '14', 'category_id': 1, 'segmentation': [73, 5, 185, 5, 185, 191, 73, 191], 'area': 20832, 'bbox': [73, 5, 112, 186], 'iscrowd': 0}, {'id': 15, 'image_id': '15', 'category_id': 1, 'segmentation': [47, 32, 152, 32, 152, 207, 47, 207], 'area': 18375, 'bbox': [47, 32, 105, 175], 'iscrowd': 0}, {'id': 16, 'image_id': '16', 'category_id': 1, 'segmentation': [9, 6, 188, 6, 188, 138, 9, 138], 'area': 23628, 'bbox': [9, 6, 179, 132], 'iscrowd': 0}, {'id': 17, 'image_id': '17', 'category_id': 1, 'segmentation': [53, 13, 190, 13, 190, 156, 53, 156], 'area': 19591, 'bbox': [53, 13, 137, 143], 'iscrowd': 0}, {'id': 18, 'image_id': '18', 'category_id': 1, 'segmentation': [62, 2, 283, 2, 283, 138, 62, 138], 'area': 30056, 'bbox': [62, 2, 221, 136], 'iscrowd': 0}, {'id': 19, 'image_id': '19', 'category_id': 1, 'segmentation': [40, 8, 252, 8, 252, 166, 40, 166], 'area': 33496, 'bbox': [40, 8, 212, 158], 'iscrowd': 0}, {'id': 20, 'image_id': '20', 'category_id': 1, 'segmentation': [91, 38, 215, 38, 215, 148, 91, 148], 'area': 13640, 'bbox': [91, 38, 124, 110], 'iscrowd': 0}, {'id': 21, 'image_id': '21', 'category_id': 1, 'segmentation': [22, 19, 185, 19, 185, 256, 22, 256], 'area': 38631, 'bbox': [22, 19, 163, 237], 'iscrowd': 0}, {'id': 22, 'image_id': '22', 'category_id': 1, 'segmentation': [70, 22, 222, 22, 222, 180, 70, 180], 'area': 24016, 'bbox': [70, 22, 152, 158], 'iscrowd': 0}, {'id': 23, 'image_id': '23', 'category_id': 1, 'segmentation': [30, 15, 252, 15, 252, 171, 30, 171], 'area': 34632, 'bbox': [30, 15, 222, 156], 'iscrowd': 0}, {'id': 24, 'image_id': '24', 'category_id': 1, 'segmentation': [57, 7, 279, 7, 279, 165, 57, 165], 'area': 35076, 'bbox': [57, 7, 222, 158], 'iscrowd': 0}, {'id': 25, 'image_id': '25', 'category_id': 1, 'segmentation': [50, 12, 202, 12, 202, 201, 50, 201], 'area': 28728, 'bbox': [50, 12, 152, 189], 'iscrowd': 0}, {'id': 26, 'image_id': '26', 'category_id': 1, 'segmentation': [52, 2, 236, 2, 236, 146, 52, 146], 'area': 26496, 'bbox': [52, 2, 184, 144], 'iscrowd': 0}, {'id': 27, 'image_id': '27', 'category_id': 1, 'segmentation': [12, 4, 244, 4, 244, 178, 12, 178], 'area': 40368, 'bbox': [12, 4, 232, 174], 'iscrowd': 0}, {'id': 28, 'image_id': '28', 'category_id': 1, 'segmentation': [50, 19, 210, 19, 210, 167, 50, 167], 'area': 23680, 'bbox': [50, 19, 160, 148], 'iscrowd': 0}, {'id': 29, 'image_id': '29', 'category_id': 1, 'segmentation': [71, 16, 195, 16, 195, 137, 71, 137], 'area': 15004, 'bbox': [71, 16, 124, 121], 'iscrowd': 0}, {'id': 30, 'image_id': '30', 'category_id': 1, 'segmentation': [79, 16, 212, 16, 212, 168, 79, 168], 'area': 20216, 'bbox': [79, 16, 133, 152], 'iscrowd': 0}, {'id': 31, 'image_id': '31', 'category_id': 1, 'segmentation': [10, 25, 179, 25, 179, 245, 10, 245], 'area': 37180, 'bbox': [10, 25, 169, 220], 'iscrowd': 0}, {'id': 32, 'image_id': '32', 'category_id': 1, 'segmentation': [47, 13, 197, 13, 197, 170, 47, 170], 'area': 23550, 'bbox': [47, 13, 150, 157], 'iscrowd': 0}, {'id': 33, 'image_id': '33', 'category_id': 1, 'segmentation': [3, 0, 249, 0, 249, 155, 3, 155], 'area': 38130, 'bbox': [3, 0, 246, 155], 'iscrowd': 0}, {'id': 34, 'image_id': '34', 'category_id': 1, 'segmentation': [66, 17, 259, 17, 259, 182, 66, 182], 'area': 31845, 'bbox': [66, 17, 193, 165], 'iscrowd': 0}, {'id': 35, 'image_id': '35', 'category_id': 1, 'segmentation': [10, 18, 184, 18, 184, 178, 10, 178], 'area': 27840, 'bbox': [10, 18, 174, 160], 'iscrowd': 0}, {'id': 36, 'image_id': '36', 'category_id': 1, 'segmentation': [49, 17, 194, 17, 194, 222, 49, 222], 'area': 29725, 'bbox': [49, 17, 145, 205], 'iscrowd': 0}, {'id': 37, 'image_id': '37', 'category_id': 1, 'segmentation': [8, 22, 211, 22, 211, 223, 8, 223], 'area': 40803, 'bbox': [8, 22, 203, 201], 'iscrowd': 0}, {'id': 38, 'image_id': '38', 'category_id': 1, 'segmentation': [65, 13, 216, 13, 216, 176, 65, 176], 'area': 24613, 'bbox': [65, 13, 151, 163], 'iscrowd': 0}, {'id': 39, 'image_id': '39', 'category_id': 1, 'segmentation': [9, 10, 151, 10, 151, 179, 9, 179], 'area': 23998, 'bbox': [9, 10, 142, 169], 'iscrowd': 0}, {'id': 40, 'image_id': '41', 'category_id': 1, 'segmentation': [83, 6, 265, 6, 265, 179, 83, 179], 'area': 31486, 'bbox': [83, 6, 182, 173], 'iscrowd': 0}, {'id': 41, 'image_id': '42', 'category_id': 1, 'segmentation': [31, 10, 189, 10, 189, 180, 31, 180], 'area': 26860, 'bbox': [31, 10, 158, 170], 'iscrowd': 0}, {'id': 42, 'image_id': '43', 'category_id': 1, 'segmentation': [37, 83, 140, 83, 140, 247, 37, 247], 'area': 16892, 'bbox': [37, 83, 103, 164], 'iscrowd': 0}, {'id': 43, 'image_id': '44', 'category_id': 1, 'segmentation': [91, 5, 226, 5, 226, 165, 91, 165], 'area': 21600, 'bbox': [91, 5, 135, 160], 'iscrowd': 0}, {'id': 44, 'image_id': '45', 'category_id': 1, 'segmentation': [8, 2, 254, 2, 254, 170, 8, 170], 'area': 41328, 'bbox': [8, 2, 246, 168], 'iscrowd': 0}, {'id': 45, 'image_id': '46', 'category_id': 1, 'segmentation': [68, 11, 203, 11, 203, 152, 68, 152], 'area': 19035, 'bbox': [68, 11, 135, 141], 'iscrowd': 0}, {'id': 46, 'image_id': '47', 'category_id': 1, 'segmentation': [71, 68, 218, 68, 218, 222, 71, 222], 'area': 22638, 'bbox': [71, 68, 147, 154], 'iscrowd': 0}, {'id': 47, 'image_id': '48', 'category_id': 1, 'segmentation': [59, 64, 159, 64, 159, 248, 59, 248], 'area': 18400, 'bbox': [59, 64, 100, 184], 'iscrowd': 0}, {'id': 48, 'image_id': '49', 'category_id': 1, 'segmentation': [139, 3, 304, 3, 304, 151, 139, 151], 'area': 24420, 'bbox': [139, 3, 165, 148], 'iscrowd': 0}], [{'id': 1, 'name': 'Unknown', 'url': ''}], [{'id': 1, 'name': 'dog', 'supercategory': 'class'}, {'id': 1, 'name': 'dog', 'supercategory': 'class'}, {'id': 1, 'name': 'dog', 'supercategory': 'class'}, {'id': 1, 'name': 'dog', 'supercategory': 'class'}, {'id': 1, 'name': 'dog', 'supercategory': 'class'}, {'id': 1, 'name': 'dog', 'supercategory': 'class'}, {'id': 1, 'name': 'dog', 'supercategory': 'class'}, {'id': 1, 'name': 'dog', 'supercategory': 'class'}, {'id': 1, 'name': 'dog', 'supercategory': 'class'}, {'id': 1, 'name': 'dog', 'supercategory': 'class'}, {'id': 1, 'name': 'dog', 'supercategory': 'class'}, {'id': 1, 'name': 'dog', 'supercategory': 'class'}, {'id': 1, 'name': 'dog', 'supercategory': 'class'}, {'id': 1, 'name': 'dog', 'supercategory': 'class'}, {'id': 1, 'name': 'dog', 'supercategory': 'class'}, {'id': 1, 'name': 'dog', 'supercategory': 'class'}, {'id': 1, 'name': 'dog', 'supercategory': 'class'}, {'id': 1, 'name': 'dog', 'supercategory': 'class'}, {'id': 1, 'name': 'dog', 'supercategory': 'class'}, {'id': 1, 'name': 'dog', 'supercategory': 'class'}, {'id': 1, 'name': 'dog', 'supercategory': 'class'}, {'id': 1, 'name': 'dog', 'supercategory': 'class'}, {'id': 1, 'name': 'dog', 'supercategory': 'class'}, {'id': 1, 'name': 'dog', 'supercategory': 'class'}, {'id': 1, 'name': 'dog', 'supercategory': 'class'}, {'id': 1, 'name': 'dog', 'supercategory': 'class'}, {'id': 1, 'name': 'dog', 'supercategory': 'class'}, {'id': 1, 'name': 'dog', 'supercategory': 'class'}, {'id': 1, 'name': 'dog', 'supercategory': 'class'}, {'id': 1, 'name': 'dog', 'supercategory': 'class'}, {'id': 1, 'name': 'dog', 'supercategory': 'class'}, {'id': 1, 'name': 'dog', 'supercategory': 'class'}, {'id': 1, 'name': 'dog', 'supercategory': 'class'}, {'id': 1, 'name': 'dog', 'supercategory': 'class'}, {'id': 1, 'name': 'dog', 'supercategory': 'class'}, {'id': 1, 'name': 'dog', 'supercategory': 'class'}, {'id': 1, 'name': 'dog', 'supercategory': 'class'}, {'id': 1, 'name': 'dog', 'supercategory': 'class'}, {'id': 1, 'name': 'dog', 'supercategory': 'class'}, {'id': 1, 'name': 'dog', 'supercategory': 'class'}, {'id': 1, 'name': 'dog', 'supercategory': 'class'}, {'id': 1, 'name': 'dog', 'supercategory': 'class'}, {'id': 1, 'name': 'dog', 'supercategory': 'class'}, {'id': 1, 'name': 'dog', 'supercategory': 'class'}, {'id': 1, 'name': 'dog', 'supercategory': 'class'}, {'id': 1, 'name': 'dog', 'supercategory': 'class'}, {'id': 1, 'name': 'dog', 'supercategory': 'class'}, {'id': 1, 'name': 'dog', 'supercategory': 'class'}, {'id': 1, 'name': 'dog', 'supercategory': 'class'}, {'id': 1, 'name': 'dog', 'supercategory': 'class'}]])"
            ]
          },
          "metadata": {
            "tags": []
          },
          "execution_count": 94
        }
      ]
    },
    {
      "cell_type": "code",
      "metadata": {
        "id": "pmkL0JeDlRm3",
        "colab_type": "code",
        "colab": {}
      },
      "source": [
        "images = pd.DataFrame(json_input['images'])\n",
        "annotations = pd.DataFrame(json_input['annotations'])"
      ],
      "execution_count": 0,
      "outputs": []
    },
    {
      "cell_type": "code",
      "metadata": {
        "id": "c_ILCwa4l79O",
        "colab_type": "code",
        "outputId": "79e7725a-6bbb-4b9f-abb3-80dfb741dd47",
        "colab": {
          "base_uri": "https://localhost:8080/",
          "height": 201
        }
      },
      "source": [
        "images.head()"
      ],
      "execution_count": 0,
      "outputs": [
        {
          "output_type": "execute_result",
          "data": {
            "text/html": [
              "<div>\n",
              "<style scoped>\n",
              "    .dataframe tbody tr th:only-of-type {\n",
              "        vertical-align: middle;\n",
              "    }\n",
              "\n",
              "    .dataframe tbody tr th {\n",
              "        vertical-align: top;\n",
              "    }\n",
              "\n",
              "    .dataframe thead th {\n",
              "        text-align: right;\n",
              "    }\n",
              "</style>\n",
              "<table border=\"1\" class=\"dataframe\">\n",
              "  <thead>\n",
              "    <tr style=\"text-align: right;\">\n",
              "      <th></th>\n",
              "      <th>id</th>\n",
              "      <th>width</th>\n",
              "      <th>height</th>\n",
              "      <th>file_name</th>\n",
              "      <th>license</th>\n",
              "      <th>date_captured</th>\n",
              "    </tr>\n",
              "  </thead>\n",
              "  <tbody>\n",
              "    <tr>\n",
              "      <th>0</th>\n",
              "      <td>0</td>\n",
              "      <td>275</td>\n",
              "      <td>183</td>\n",
              "      <td>img_1.jfif</td>\n",
              "      <td>1</td>\n",
              "      <td></td>\n",
              "    </tr>\n",
              "    <tr>\n",
              "      <th>1</th>\n",
              "      <td>1</td>\n",
              "      <td>282</td>\n",
              "      <td>179</td>\n",
              "      <td>img_2.jfif</td>\n",
              "      <td>1</td>\n",
              "      <td></td>\n",
              "    </tr>\n",
              "    <tr>\n",
              "      <th>2</th>\n",
              "      <td>2</td>\n",
              "      <td>275</td>\n",
              "      <td>183</td>\n",
              "      <td>img_3.jfif</td>\n",
              "      <td>1</td>\n",
              "      <td></td>\n",
              "    </tr>\n",
              "    <tr>\n",
              "      <th>3</th>\n",
              "      <td>3</td>\n",
              "      <td>272</td>\n",
              "      <td>185</td>\n",
              "      <td>img_4.jfif</td>\n",
              "      <td>1</td>\n",
              "      <td></td>\n",
              "    </tr>\n",
              "    <tr>\n",
              "      <th>4</th>\n",
              "      <td>4</td>\n",
              "      <td>264</td>\n",
              "      <td>191</td>\n",
              "      <td>img_5.jfif</td>\n",
              "      <td>1</td>\n",
              "      <td></td>\n",
              "    </tr>\n",
              "  </tbody>\n",
              "</table>\n",
              "</div>"
            ],
            "text/plain": [
              "   id  width  height   file_name  license date_captured\n",
              "0   0    275     183  img_1.jfif        1              \n",
              "1   1    282     179  img_2.jfif        1              \n",
              "2   2    275     183  img_3.jfif        1              \n",
              "3   3    272     185  img_4.jfif        1              \n",
              "4   4    264     191  img_5.jfif        1              "
            ]
          },
          "metadata": {
            "tags": []
          },
          "execution_count": 96
        }
      ]
    },
    {
      "cell_type": "code",
      "metadata": {
        "id": "1Izh3pxkmB-1",
        "colab_type": "code",
        "outputId": "28542adc-f8ac-4332-9614-36dd06cb6c87",
        "colab": {
          "base_uri": "https://localhost:8080/",
          "height": 201
        }
      },
      "source": [
        "annotations.head()"
      ],
      "execution_count": 0,
      "outputs": [
        {
          "output_type": "execute_result",
          "data": {
            "text/html": [
              "<div>\n",
              "<style scoped>\n",
              "    .dataframe tbody tr th:only-of-type {\n",
              "        vertical-align: middle;\n",
              "    }\n",
              "\n",
              "    .dataframe tbody tr th {\n",
              "        vertical-align: top;\n",
              "    }\n",
              "\n",
              "    .dataframe thead th {\n",
              "        text-align: right;\n",
              "    }\n",
              "</style>\n",
              "<table border=\"1\" class=\"dataframe\">\n",
              "  <thead>\n",
              "    <tr style=\"text-align: right;\">\n",
              "      <th></th>\n",
              "      <th>id</th>\n",
              "      <th>image_id</th>\n",
              "      <th>category_id</th>\n",
              "      <th>segmentation</th>\n",
              "      <th>area</th>\n",
              "      <th>bbox</th>\n",
              "      <th>iscrowd</th>\n",
              "    </tr>\n",
              "  </thead>\n",
              "  <tbody>\n",
              "    <tr>\n",
              "      <th>0</th>\n",
              "      <td>0</td>\n",
              "      <td>0</td>\n",
              "      <td>1</td>\n",
              "      <td>[42, 30, 218, 30, 218, 169, 42, 169]</td>\n",
              "      <td>24464</td>\n",
              "      <td>[42, 30, 176, 139]</td>\n",
              "      <td>0</td>\n",
              "    </tr>\n",
              "    <tr>\n",
              "      <th>1</th>\n",
              "      <td>1</td>\n",
              "      <td>1</td>\n",
              "      <td>1</td>\n",
              "      <td>[58, 34, 272, 34, 272, 167, 58, 167]</td>\n",
              "      <td>28462</td>\n",
              "      <td>[58, 34, 214, 133]</td>\n",
              "      <td>0</td>\n",
              "    </tr>\n",
              "    <tr>\n",
              "      <th>2</th>\n",
              "      <td>2</td>\n",
              "      <td>2</td>\n",
              "      <td>1</td>\n",
              "      <td>[34, 24, 249, 24, 249, 152, 34, 152]</td>\n",
              "      <td>27520</td>\n",
              "      <td>[34, 24, 215, 128]</td>\n",
              "      <td>0</td>\n",
              "    </tr>\n",
              "    <tr>\n",
              "      <th>3</th>\n",
              "      <td>3</td>\n",
              "      <td>3</td>\n",
              "      <td>1</td>\n",
              "      <td>[50, 14, 200, 14, 200, 168, 50, 168]</td>\n",
              "      <td>23100</td>\n",
              "      <td>[50, 14, 150, 154]</td>\n",
              "      <td>0</td>\n",
              "    </tr>\n",
              "    <tr>\n",
              "      <th>4</th>\n",
              "      <td>4</td>\n",
              "      <td>4</td>\n",
              "      <td>1</td>\n",
              "      <td>[6, 2, 249, 2, 249, 187, 6, 187]</td>\n",
              "      <td>44955</td>\n",
              "      <td>[6, 2, 243, 185]</td>\n",
              "      <td>0</td>\n",
              "    </tr>\n",
              "  </tbody>\n",
              "</table>\n",
              "</div>"
            ],
            "text/plain": [
              "   id image_id  category_id  ...   area                bbox iscrowd\n",
              "0   0        0            1  ...  24464  [42, 30, 176, 139]       0\n",
              "1   1        1            1  ...  28462  [58, 34, 214, 133]       0\n",
              "2   2        2            1  ...  27520  [34, 24, 215, 128]       0\n",
              "3   3        3            1  ...  23100  [50, 14, 150, 154]       0\n",
              "4   4        4            1  ...  44955    [6, 2, 243, 185]       0\n",
              "\n",
              "[5 rows x 7 columns]"
            ]
          },
          "metadata": {
            "tags": []
          },
          "execution_count": 97
        }
      ]
    },
    {
      "cell_type": "code",
      "metadata": {
        "id": "4iMU59d8mCbi",
        "colab_type": "code",
        "outputId": "6a368f5f-73f5-46e1-e937-57a03f9c5ca1",
        "colab": {
          "base_uri": "https://localhost:8080/",
          "height": 50
        }
      },
      "source": [
        "bb_x = []\n",
        "bb_y = []\n",
        "bb_width = []\n",
        "bb_height = []\n",
        "bb_list = list(annotations['bbox'])\n",
        "print(len(bb_list))\n",
        "print(bb_list[0])"
      ],
      "execution_count": 0,
      "outputs": [
        {
          "output_type": "stream",
          "text": [
            "49\n",
            "[42, 30, 176, 139]\n"
          ],
          "name": "stdout"
        }
      ]
    },
    {
      "cell_type": "code",
      "metadata": {
        "id": "nGaKYiCGnFzs",
        "colab_type": "code",
        "colab": {}
      },
      "source": [
        "for i in bb_list:  \n",
        "  bb_x.append(i[0])\n",
        "  bb_y.append(i[1])\n",
        "  bb_width.append(i[2])\n",
        "  bb_height.append(i[3])\n",
        "annotations['bb_x'] = bb_x\n",
        "annotations['bb_y'] = bb_y\n",
        "annotations['bb_width'] = bb_width\n",
        "annotations['bb_height'] = bb_height  "
      ],
      "execution_count": 0,
      "outputs": []
    },
    {
      "cell_type": "code",
      "metadata": {
        "id": "8v6qHNgNoo9L",
        "colab_type": "code",
        "outputId": "7a85c945-73da-4495-8fc7-6992f8b7bf43",
        "colab": {
          "base_uri": "https://localhost:8080/",
          "height": 201
        }
      },
      "source": [
        "annotations.head()"
      ],
      "execution_count": 0,
      "outputs": [
        {
          "output_type": "execute_result",
          "data": {
            "text/html": [
              "<div>\n",
              "<style scoped>\n",
              "    .dataframe tbody tr th:only-of-type {\n",
              "        vertical-align: middle;\n",
              "    }\n",
              "\n",
              "    .dataframe tbody tr th {\n",
              "        vertical-align: top;\n",
              "    }\n",
              "\n",
              "    .dataframe thead th {\n",
              "        text-align: right;\n",
              "    }\n",
              "</style>\n",
              "<table border=\"1\" class=\"dataframe\">\n",
              "  <thead>\n",
              "    <tr style=\"text-align: right;\">\n",
              "      <th></th>\n",
              "      <th>id</th>\n",
              "      <th>image_id</th>\n",
              "      <th>category_id</th>\n",
              "      <th>segmentation</th>\n",
              "      <th>area</th>\n",
              "      <th>bbox</th>\n",
              "      <th>iscrowd</th>\n",
              "      <th>bb_x</th>\n",
              "      <th>bb_y</th>\n",
              "      <th>bb_width</th>\n",
              "      <th>bb_height</th>\n",
              "    </tr>\n",
              "  </thead>\n",
              "  <tbody>\n",
              "    <tr>\n",
              "      <th>0</th>\n",
              "      <td>0</td>\n",
              "      <td>0</td>\n",
              "      <td>1</td>\n",
              "      <td>[42, 30, 218, 30, 218, 169, 42, 169]</td>\n",
              "      <td>24464</td>\n",
              "      <td>[42, 30, 176, 139]</td>\n",
              "      <td>0</td>\n",
              "      <td>42</td>\n",
              "      <td>30</td>\n",
              "      <td>176</td>\n",
              "      <td>139</td>\n",
              "    </tr>\n",
              "    <tr>\n",
              "      <th>1</th>\n",
              "      <td>1</td>\n",
              "      <td>1</td>\n",
              "      <td>1</td>\n",
              "      <td>[58, 34, 272, 34, 272, 167, 58, 167]</td>\n",
              "      <td>28462</td>\n",
              "      <td>[58, 34, 214, 133]</td>\n",
              "      <td>0</td>\n",
              "      <td>58</td>\n",
              "      <td>34</td>\n",
              "      <td>214</td>\n",
              "      <td>133</td>\n",
              "    </tr>\n",
              "    <tr>\n",
              "      <th>2</th>\n",
              "      <td>2</td>\n",
              "      <td>2</td>\n",
              "      <td>1</td>\n",
              "      <td>[34, 24, 249, 24, 249, 152, 34, 152]</td>\n",
              "      <td>27520</td>\n",
              "      <td>[34, 24, 215, 128]</td>\n",
              "      <td>0</td>\n",
              "      <td>34</td>\n",
              "      <td>24</td>\n",
              "      <td>215</td>\n",
              "      <td>128</td>\n",
              "    </tr>\n",
              "    <tr>\n",
              "      <th>3</th>\n",
              "      <td>3</td>\n",
              "      <td>3</td>\n",
              "      <td>1</td>\n",
              "      <td>[50, 14, 200, 14, 200, 168, 50, 168]</td>\n",
              "      <td>23100</td>\n",
              "      <td>[50, 14, 150, 154]</td>\n",
              "      <td>0</td>\n",
              "      <td>50</td>\n",
              "      <td>14</td>\n",
              "      <td>150</td>\n",
              "      <td>154</td>\n",
              "    </tr>\n",
              "    <tr>\n",
              "      <th>4</th>\n",
              "      <td>4</td>\n",
              "      <td>4</td>\n",
              "      <td>1</td>\n",
              "      <td>[6, 2, 249, 2, 249, 187, 6, 187]</td>\n",
              "      <td>44955</td>\n",
              "      <td>[6, 2, 243, 185]</td>\n",
              "      <td>0</td>\n",
              "      <td>6</td>\n",
              "      <td>2</td>\n",
              "      <td>243</td>\n",
              "      <td>185</td>\n",
              "    </tr>\n",
              "  </tbody>\n",
              "</table>\n",
              "</div>"
            ],
            "text/plain": [
              "   id image_id  category_id  ... bb_y  bb_width bb_height\n",
              "0   0        0            1  ...   30       176       139\n",
              "1   1        1            1  ...   34       214       133\n",
              "2   2        2            1  ...   24       215       128\n",
              "3   3        3            1  ...   14       150       154\n",
              "4   4        4            1  ...    2       243       185\n",
              "\n",
              "[5 rows x 11 columns]"
            ]
          },
          "metadata": {
            "tags": []
          },
          "execution_count": 100
        }
      ]
    },
    {
      "cell_type": "code",
      "metadata": {
        "id": "k5jWqOvepKsn",
        "colab_type": "code",
        "colab": {}
      },
      "source": [
        "df_input = pd.merge(images, annotations, how='inner',on='id')"
      ],
      "execution_count": 0,
      "outputs": []
    },
    {
      "cell_type": "code",
      "metadata": {
        "id": "ZzH_poxDptSZ",
        "colab_type": "code",
        "colab": {}
      },
      "source": [
        "df_input.drop(df_input.columns[[0,3,4,5,6,7,8,9,10,11,12,13]], axis = 1, inplace = True)"
      ],
      "execution_count": 0,
      "outputs": []
    },
    {
      "cell_type": "code",
      "metadata": {
        "id": "iqRl33nApy2t",
        "colab_type": "code",
        "outputId": "666c8369-cdc2-43a4-ffbb-c146a8dad384",
        "colab": {
          "base_uri": "https://localhost:8080/",
          "height": 201
        }
      },
      "source": [
        "df_input.head()"
      ],
      "execution_count": 0,
      "outputs": [
        {
          "output_type": "execute_result",
          "data": {
            "text/html": [
              "<div>\n",
              "<style scoped>\n",
              "    .dataframe tbody tr th:only-of-type {\n",
              "        vertical-align: middle;\n",
              "    }\n",
              "\n",
              "    .dataframe tbody tr th {\n",
              "        vertical-align: top;\n",
              "    }\n",
              "\n",
              "    .dataframe thead th {\n",
              "        text-align: right;\n",
              "    }\n",
              "</style>\n",
              "<table border=\"1\" class=\"dataframe\">\n",
              "  <thead>\n",
              "    <tr style=\"text-align: right;\">\n",
              "      <th></th>\n",
              "      <th>width</th>\n",
              "      <th>height</th>\n",
              "      <th>bb_width</th>\n",
              "      <th>bb_height</th>\n",
              "    </tr>\n",
              "  </thead>\n",
              "  <tbody>\n",
              "    <tr>\n",
              "      <th>0</th>\n",
              "      <td>275</td>\n",
              "      <td>183</td>\n",
              "      <td>176</td>\n",
              "      <td>139</td>\n",
              "    </tr>\n",
              "    <tr>\n",
              "      <th>1</th>\n",
              "      <td>282</td>\n",
              "      <td>179</td>\n",
              "      <td>214</td>\n",
              "      <td>133</td>\n",
              "    </tr>\n",
              "    <tr>\n",
              "      <th>2</th>\n",
              "      <td>275</td>\n",
              "      <td>183</td>\n",
              "      <td>215</td>\n",
              "      <td>128</td>\n",
              "    </tr>\n",
              "    <tr>\n",
              "      <th>3</th>\n",
              "      <td>272</td>\n",
              "      <td>185</td>\n",
              "      <td>150</td>\n",
              "      <td>154</td>\n",
              "    </tr>\n",
              "    <tr>\n",
              "      <th>4</th>\n",
              "      <td>264</td>\n",
              "      <td>191</td>\n",
              "      <td>243</td>\n",
              "      <td>185</td>\n",
              "    </tr>\n",
              "  </tbody>\n",
              "</table>\n",
              "</div>"
            ],
            "text/plain": [
              "   width  height  bb_width  bb_height\n",
              "0    275     183       176        139\n",
              "1    282     179       214        133\n",
              "2    275     183       215        128\n",
              "3    272     185       150        154\n",
              "4    264     191       243        185"
            ]
          },
          "metadata": {
            "tags": []
          },
          "execution_count": 115
        }
      ]
    },
    {
      "cell_type": "markdown",
      "metadata": {
        "id": "tp6ShqGQq5A2",
        "colab_type": "text"
      },
      "source": [
        "Normalize"
      ]
    },
    {
      "cell_type": "code",
      "metadata": {
        "id": "lU2U3eG4ql2K",
        "colab_type": "code",
        "outputId": "c323cb07-c839-4040-ee72-9aba63403f05",
        "colab": {
          "base_uri": "https://localhost:8080/",
          "height": 201
        }
      },
      "source": [
        "df_input['bb_width'] = df_input['bb_width'].div(df_input['width'])\n",
        "df_input['bb_height'] = df_input['bb_height'].div(df_input['height'])\n",
        "df_input['width'] = df_input['width'].div(df_input['width'])\n",
        "df_input['height'] = df_input['height'].div(df_input['height'])\n",
        "df_input.head()"
      ],
      "execution_count": 0,
      "outputs": [
        {
          "output_type": "execute_result",
          "data": {
            "text/html": [
              "<div>\n",
              "<style scoped>\n",
              "    .dataframe tbody tr th:only-of-type {\n",
              "        vertical-align: middle;\n",
              "    }\n",
              "\n",
              "    .dataframe tbody tr th {\n",
              "        vertical-align: top;\n",
              "    }\n",
              "\n",
              "    .dataframe thead th {\n",
              "        text-align: right;\n",
              "    }\n",
              "</style>\n",
              "<table border=\"1\" class=\"dataframe\">\n",
              "  <thead>\n",
              "    <tr style=\"text-align: right;\">\n",
              "      <th></th>\n",
              "      <th>width</th>\n",
              "      <th>height</th>\n",
              "      <th>bb_width</th>\n",
              "      <th>bb_height</th>\n",
              "    </tr>\n",
              "  </thead>\n",
              "  <tbody>\n",
              "    <tr>\n",
              "      <th>0</th>\n",
              "      <td>1.0</td>\n",
              "      <td>1.0</td>\n",
              "      <td>0.640000</td>\n",
              "      <td>0.759563</td>\n",
              "    </tr>\n",
              "    <tr>\n",
              "      <th>1</th>\n",
              "      <td>1.0</td>\n",
              "      <td>1.0</td>\n",
              "      <td>0.758865</td>\n",
              "      <td>0.743017</td>\n",
              "    </tr>\n",
              "    <tr>\n",
              "      <th>2</th>\n",
              "      <td>1.0</td>\n",
              "      <td>1.0</td>\n",
              "      <td>0.781818</td>\n",
              "      <td>0.699454</td>\n",
              "    </tr>\n",
              "    <tr>\n",
              "      <th>3</th>\n",
              "      <td>1.0</td>\n",
              "      <td>1.0</td>\n",
              "      <td>0.551471</td>\n",
              "      <td>0.832432</td>\n",
              "    </tr>\n",
              "    <tr>\n",
              "      <th>4</th>\n",
              "      <td>1.0</td>\n",
              "      <td>1.0</td>\n",
              "      <td>0.920455</td>\n",
              "      <td>0.968586</td>\n",
              "    </tr>\n",
              "  </tbody>\n",
              "</table>\n",
              "</div>"
            ],
            "text/plain": [
              "   width  height  bb_width  bb_height\n",
              "0    1.0     1.0  0.640000   0.759563\n",
              "1    1.0     1.0  0.758865   0.743017\n",
              "2    1.0     1.0  0.781818   0.699454\n",
              "3    1.0     1.0  0.551471   0.832432\n",
              "4    1.0     1.0  0.920455   0.968586"
            ]
          },
          "metadata": {
            "tags": []
          },
          "execution_count": 116
        }
      ]
    },
    {
      "cell_type": "code",
      "metadata": {
        "id": "nmz_0iO3rSbc",
        "colab_type": "code",
        "outputId": "cfa307be-70b8-4bdc-fa75-3f545914b3ed",
        "colab": {
          "base_uri": "https://localhost:8080/",
          "height": 201
        }
      },
      "source": [
        "df_input.drop(['width', 'height'], axis = 1, inplace=True)\n",
        "df_input.head()"
      ],
      "execution_count": 0,
      "outputs": [
        {
          "output_type": "execute_result",
          "data": {
            "text/html": [
              "<div>\n",
              "<style scoped>\n",
              "    .dataframe tbody tr th:only-of-type {\n",
              "        vertical-align: middle;\n",
              "    }\n",
              "\n",
              "    .dataframe tbody tr th {\n",
              "        vertical-align: top;\n",
              "    }\n",
              "\n",
              "    .dataframe thead th {\n",
              "        text-align: right;\n",
              "    }\n",
              "</style>\n",
              "<table border=\"1\" class=\"dataframe\">\n",
              "  <thead>\n",
              "    <tr style=\"text-align: right;\">\n",
              "      <th></th>\n",
              "      <th>bb_width</th>\n",
              "      <th>bb_height</th>\n",
              "    </tr>\n",
              "  </thead>\n",
              "  <tbody>\n",
              "    <tr>\n",
              "      <th>0</th>\n",
              "      <td>0.640000</td>\n",
              "      <td>0.759563</td>\n",
              "    </tr>\n",
              "    <tr>\n",
              "      <th>1</th>\n",
              "      <td>0.758865</td>\n",
              "      <td>0.743017</td>\n",
              "    </tr>\n",
              "    <tr>\n",
              "      <th>2</th>\n",
              "      <td>0.781818</td>\n",
              "      <td>0.699454</td>\n",
              "    </tr>\n",
              "    <tr>\n",
              "      <th>3</th>\n",
              "      <td>0.551471</td>\n",
              "      <td>0.832432</td>\n",
              "    </tr>\n",
              "    <tr>\n",
              "      <th>4</th>\n",
              "      <td>0.920455</td>\n",
              "      <td>0.968586</td>\n",
              "    </tr>\n",
              "  </tbody>\n",
              "</table>\n",
              "</div>"
            ],
            "text/plain": [
              "   bb_width  bb_height\n",
              "0  0.640000   0.759563\n",
              "1  0.758865   0.743017\n",
              "2  0.781818   0.699454\n",
              "3  0.551471   0.832432\n",
              "4  0.920455   0.968586"
            ]
          },
          "metadata": {
            "tags": []
          },
          "execution_count": 117
        }
      ]
    },
    {
      "cell_type": "code",
      "metadata": {
        "id": "XUC14Gbjr0sU",
        "colab_type": "code",
        "outputId": "1038d953-59aa-475c-ac7e-572a59f47426",
        "colab": {
          "base_uri": "https://localhost:8080/",
          "height": 296
        }
      },
      "source": [
        "import matplotlib.pyplot as plt\n",
        "plt.scatter(df_input['bb_width'], df_input['bb_height'], alpha=0.5)\n",
        "plt.title('Normalized scatter plot of bb_box')\n",
        "plt.xlabel('bb_width')\n",
        "plt.ylabel('bb_height')\n",
        "plt.show()"
      ],
      "execution_count": 0,
      "outputs": [
        {
          "output_type": "display_data",
          "data": {
            "image/png": "[encoded data removed]",
            "text/plain": [
              "<Figure size 432x288 with 1 Axes>"
            ]
          },
          "metadata": {
            "tags": [],
            "needs_background": "light"
          }
        }
      ]
    },
    {
      "cell_type": "markdown",
      "metadata": {
        "id": "D2ZB4lnUAXvm",
        "colab_type": "text"
      },
      "source": [
        "https://www.geeksforgeeks.org/elbow-method-for-optimal-value-of-k-in-kmeans/"
      ]
    },
    {
      "cell_type": "code",
      "metadata": {
        "id": "sBGPchNrsKm7",
        "colab_type": "code",
        "colab": {}
      },
      "source": [
        "from sklearn.cluster import KMeans\n",
        "from scipy.spatial.distance import cdist\n",
        "import numpy as np\n",
        "\n",
        "distortions = [] \n",
        "inertias = [] \n",
        "\n",
        "K = range(1,10) \n",
        "  \n",
        "for k in K: \n",
        "    kmeanModel = KMeans(n_clusters=k).fit(df_input) \n",
        "    kmeanModel.fit(df_input)           \n",
        "    distortions.append(sum(np.min(cdist(df_input, kmeanModel.cluster_centers_, \n",
        "                      'euclidean'),axis=1)) / df_input.shape[0]) \n",
        "    inertias.append(kmeanModel.inertia_)"
      ],
      "execution_count": 0,
      "outputs": []
    },
    {
      "cell_type": "code",
      "metadata": {
        "id": "HJwvjquqvRk1",
        "colab_type": "code",
        "outputId": "da9945f3-2ecd-49c0-b9b3-8b6c8e6b7ac0",
        "colab": {
          "base_uri": "https://localhost:8080/",
          "height": 295
        }
      },
      "source": [
        "plt.plot(K, distortions, '.-')\n",
        "plt.xlabel('K-values')\n",
        "plt.ylabel('Distortion')\n",
        "plt.title('Elbow plot')\n",
        "plt.show()"
      ],
      "execution_count": 0,
      "outputs": [
        {
          "output_type": "display_data",
          "data": {
            "image/png": "[encoded data removed]",
            "text/plain": [
              "<Figure size 432x288 with 1 Axes>"
            ]
          },
          "metadata": {
            "tags": [],
            "needs_background": "light"
          }
        }
      ]
    }
  ]
}